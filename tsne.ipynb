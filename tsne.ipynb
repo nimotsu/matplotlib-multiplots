{
 "cells": [
  {
   "cell_type": "code",
   "execution_count": 115,
   "id": "973475b7",
   "metadata": {},
   "outputs": [],
   "source": [
    "import numpy as np\n",
    "import matplotlib.pyplot as plt\n",
    "import seaborn as sns\n",
    "import pandas as pd\n",
    "import glob\n",
    "import os\n",
    "\n",
    "from sklearn import manifold\n",
    "from sklearn.manifold import TSNE\n",
    "from time import time\n",
    "\n",
    "PATH = \"features/\"\n",
    "SAMPLE = None\n",
    "TSNE_FOLDER = \"tsne/\"\n",
    "TSNE_VIZ_FOLDER = \"tsne_viz15/\"\n",
    "\n",
    "perplexities = [5, 15, 30, 50, 100]\n",
    "\n",
    "datasets = ['train', 'test']\n",
    "method_dict = {'base' : 'Cross Entropy',\n",
    "#                'ce_ent_' : 'Cross Entropy / Entropy',\n",
    "               'kld' : 'Cross Entropy / KLD',\n",
    "               'ce_kg' : 'Graph Rejection',\n",
    "#                'random_mix_' : 'RandomMix',\n",
    "#                'dividehmm_' : \"DivideHMM\",\n",
    "              }\n",
    "fullnames = [val for key, val in method_dict.items()]\n",
    "keywords = [key for key, val in method_dict.items()]\n",
    "\n",
    "def load_files(filepath):\n",
    "    data_filename = glob.glob(filepath + \"data*\")\n",
    "    label_filename = glob.glob(filepath + \"clean_label*\")\n",
    "    label_filename.extend(glob.glob(filepath + \"test_label*\"))\n",
    "    noise_label_filename = glob.glob(filepath + \"noisy_label*\")\n",
    "    \n",
    "    print(data_filename, label_filename, noise_label_filename)\n",
    "\n",
    "    data = np.load(data_filename[0])[:SAMPLE]\n",
    "    label = np.load(label_filename[0])[:SAMPLE]\n",
    "\n",
    "    # get noise label and noise\n",
    "    if len(noise_label_filename) > 0:\n",
    "        noise_label = np.load(noise_label_filename[0])[:SAMPLE]\n",
    "        # True if is noise\n",
    "        noise = (noise_label != label)\n",
    "    else:\n",
    "        noise_label = None\n",
    "        noise = None\n",
    "        \n",
    "    return data, label, noise_label, noise"
   ]
  },
  {
   "cell_type": "markdown",
   "id": "ec6ff7d8",
   "metadata": {},
   "source": [
    "## Generate tsne pny"
   ]
  },
  {
   "cell_type": "code",
   "execution_count": null,
   "id": "f09cfc56",
   "metadata": {},
   "outputs": [
    {
     "name": "stdout",
     "output_type": "stream",
     "text": [
      "['features/base2_cifar10_0.2_train_data.npy'] ['features/base2_cifar10_0.2_train_clean_label.npy'] ['features/base2_cifar10_0.2_train_noisy_label.npy']\n",
      "tsne/base_train_5_tsne.npy\n",
      "tsne/base_train_15_tsne.npy\n",
      "tsne/base_train_30_tsne.npy\n",
      "tsne/base_train_50_tsne.npy\n",
      "tsne/base_train_100_tsne.npy\n",
      "['features/base2_cifar10_0.2_test_test_data.npy'] ['features/base2_cifar10_0.2_test_test_label.npy'] []\n",
      "tsne/base_test_5_tsne.npy\n",
      "tsne/base_test_15_tsne.npy\n",
      "tsne/base_test_30_tsne.npy\n",
      "tsne/base_test_50_tsne.npy\n",
      "tsne/base_test_100_tsne.npy\n",
      "['features/kld_cifar10_0.2_train_data.npy'] ['features/kld_cifar10_0.2_train_clean_label.npy'] ['features/kld_cifar10_0.2_train_noisy_label.npy']\n",
      "tsne/kld_train_5_tsne.npy\n",
      "tsne/kld_train_15_tsne.npy\n",
      "tsne/kld_train_30_tsne.npy\n",
      "tsne/kld_train_50_tsne.npy\n",
      "tsne/kld_train_100_tsne.npy\n",
      "['features/kld_cifar10_0.2_test_test_data.npy'] ['features/kld_cifar10_0.2_test_test_label.npy'] []\n",
      "tsne/kld_test_5_tsne.npy\n",
      "tsne/kld_test_15_tsne.npy\n"
     ]
    }
   ],
   "source": [
    "for keyword in keywords: # method\n",
    "    for dataset in datasets: # train or test\n",
    "        filepath = PATH + \"*\" + keyword + \"*\" + dataset + \"*\"\n",
    "        \n",
    "        data, label, noise_label, noise = load_files(filepath)\n",
    "            \n",
    "        # fit tsne\n",
    "        for i, perplexity in enumerate(perplexities): # perplexity\n",
    "            filename = TSNE_FOLDER + keyword + \"_\" + dataset + \"_\" + str(perplexity) + \"_tsne.npy\"\n",
    "#             print(filename)\n",
    "            \n",
    "            if not os.path.isfile(filename):# check npy exists\n",
    "                print(\"Generating tsne for \", filename)\n",
    "                X_embedded = TSNE(n_components=2, init='random', perplexity=perplexity).fit_transform(data)\n",
    "                np.save(filename, X_embedded)"
   ]
  },
  {
   "cell_type": "markdown",
   "id": "625e6c85",
   "metadata": {},
   "source": [
    "## Plot scatterplot"
   ]
  },
  {
   "cell_type": "code",
   "execution_count": null,
   "id": "55968702",
   "metadata": {
    "scrolled": false
   },
   "outputs": [],
   "source": [
    "for keyword in keywords: # method\n",
    "    for dataset in datasets: # train or test\n",
    "        \n",
    "        # plot scatter\n",
    "        fig, axs = plt.subplots(ncols=len(perplexities), figsize=(22,5))\n",
    "        \n",
    "        for i, perplexity in enumerate(perplexities): # perplexity\n",
    "            filename = TSNE_FOLDER + keyword + \"_\" + dataset + \"_\" + str(perplexity) + \"_tsne.npy\"\n",
    "            if os.path.isfile(filename):# check npy exists\n",
    "                X_embedded = np.load(filename)\n",
    "                print(filename)\n",
    "            else:\n",
    "                print(filename + \" not exists\")\n",
    "                \n",
    "            filepath = PATH + \"*\" + keyword + \"*\" + dataset + \"*\"\n",
    "            data, label, noise_label, noise = load_files(filepath)\n",
    "            \n",
    "            columns = ['d1', 'd2', 'label']\n",
    "            df = pd.DataFrame(np.hstack((X_embedded, label.reshape(-1,1))), columns=columns)\n",
    "            if noise is not None:\n",
    "                df['noise'] = pd.Series(noise)\n",
    "                sns.scatterplot(\n",
    "                    x=\"d1\", y=\"d2\",\n",
    "                    hue='label',\n",
    "                    style=\"noise\",\n",
    "                    palette=sns.color_palette(\"hls\", len(df['label'].unique())),\n",
    "                    data=df,\n",
    "                    legend=False,\n",
    "                    ax=axs[i]\n",
    "                )\n",
    "            else:\n",
    "                sns.scatterplot(\n",
    "                    x=\"d1\", y=\"d2\",\n",
    "                    hue='label',\n",
    "                    palette=sns.color_palette(\"hls\", len(df['label'].unique())),\n",
    "                    data=df,\n",
    "                    legend=False,\n",
    "                    ax=axs[i]\n",
    "                )\n",
    "\n",
    "            axs[i].set_xlabel(None)\n",
    "            axs[i].set_ylabel(None)\n",
    "#             axs[i].set_xticks([])\n",
    "#             axs[i].set_yticks([])\n",
    "            axs[i].set_title(\"Perplexity \" + str(perplexity))\n",
    "    \n",
    "        fig.suptitle(keyword + \" \" + dataset)\n",
    "        plt.savefig(TSNE_VIZ_FOLDER + keyword + \"_\" + dataset + \"_\" + \"tsne.png\", dpi=300, transparent=False, bbox_inches='tight', facecolor='white')\n",
    "        plt.show()"
   ]
  },
  {
   "cell_type": "code",
   "execution_count": null,
   "id": "c727eecc",
   "metadata": {},
   "outputs": [],
   "source": []
  },
  {
   "cell_type": "code",
   "execution_count": null,
   "id": "2da240b1",
   "metadata": {},
   "outputs": [],
   "source": []
  },
  {
   "cell_type": "code",
   "execution_count": null,
   "id": "f4711228",
   "metadata": {},
   "outputs": [],
   "source": []
  },
  {
   "cell_type": "code",
   "execution_count": null,
   "id": "04153572",
   "metadata": {},
   "outputs": [],
   "source": []
  },
  {
   "cell_type": "code",
   "execution_count": null,
   "id": "01f5ede1",
   "metadata": {},
   "outputs": [],
   "source": []
  },
  {
   "cell_type": "code",
   "execution_count": null,
   "id": "f0338a21",
   "metadata": {},
   "outputs": [],
   "source": []
  },
  {
   "cell_type": "code",
   "execution_count": null,
   "id": "5bcee4f7",
   "metadata": {},
   "outputs": [],
   "source": []
  },
  {
   "cell_type": "code",
   "execution_count": null,
   "id": "91ca9f8f",
   "metadata": {},
   "outputs": [],
   "source": []
  },
  {
   "cell_type": "code",
   "execution_count": null,
   "id": "ea43f917",
   "metadata": {},
   "outputs": [],
   "source": []
  }
 ],
 "metadata": {
  "kernelspec": {
   "display_name": "Python 3",
   "language": "python",
   "name": "python3"
  },
  "language_info": {
   "codemirror_mode": {
    "name": "ipython",
    "version": 3
   },
   "file_extension": ".py",
   "mimetype": "text/x-python",
   "name": "python",
   "nbconvert_exporter": "python",
   "pygments_lexer": "ipython3",
   "version": "3.9.2"
  }
 },
 "nbformat": 4,
 "nbformat_minor": 5
}
